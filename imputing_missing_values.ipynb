{
 "cells": [
  {
   "cell_type": "markdown",
   "metadata": {},
   "source": [
    "# Imputing Missing Values"
   ]
  },
  {
   "cell_type": "code",
   "execution_count": 1,
   "metadata": {},
   "outputs": [
    {
     "name": "stderr",
     "output_type": "stream",
     "text": [
      "/Users/sametmarasli/anaconda3/envs/local/lib/python3.6/site-packages/sklearn/cross_validation.py:41: DeprecationWarning: This module was deprecated in version 0.18 in favor of the model_selection module into which all the refactored classes and functions are moved. Also note that the interface of the new CV iterators are different from that of this module. This module will be removed in 0.20.\n",
      "  \"This module will be removed in 0.20.\", DeprecationWarning)\n"
     ]
    }
   ],
   "source": [
    "# %%time\n",
    "import numpy as np\n",
    "import pandas as pd\n",
    "import xgboost as xgb\n",
    "import lightgbm as lgb\n",
    "import matplotlib.pyplot as plt\n",
    "from scipy import stats\n",
    "%matplotlib inline\n",
    "\n",
    "from sklearn.ensemble import ExtraTreesRegressor\n",
    "from sklearn import model_selection\n",
    "from sklearn.ensemble import RandomForestRegressor\n",
    "from sklearn.metrics import mean_squared_error"
   ]
  },
  {
   "cell_type": "markdown",
   "metadata": {},
   "source": [
    "# Functions"
   ]
  },
  {
   "cell_type": "code",
   "execution_count": 2,
   "metadata": {},
   "outputs": [],
   "source": [
    "def run_lgb(train_X, train_y, val_X, val_y, test_X):\n",
    "    params = {\n",
    "        \"objective\" : \"regression\",\n",
    "        \"metric\" : \"mse\",\n",
    "        \"num_leaves\" : 20,\n",
    "        \"learning_rate\" : 0.01,\n",
    "        \"bagging_fraction\" : 0.7,\n",
    "        \"feature_fraction\" : 0.6,\n",
    "        \"bagging_frequency\" : 5,\n",
    "        \"bagging_seed\" : 2018,\n",
    "        \"verbosity\" : -1\n",
    "    }\n",
    "    \n",
    "    lgtrain = lgb.Dataset(train_X, label=train_y)\n",
    "    lgval = lgb.Dataset(val_X, label=val_y)\n",
    "    evals_result = {}\n",
    "    model = lgb.train(params, lgtrain, 1000, valid_sets=[lgval], \n",
    "                      early_stopping_rounds=100, verbose_eval=200, \n",
    "                      evals_result=evals_result)\n",
    "    \n",
    "    pred_test_y = model.predict(test_X, num_iteration=model.best_iteration)\n",
    "    return pred_test_y, model, evals_result"
   ]
  },
  {
   "cell_type": "code",
   "execution_count": 45,
   "metadata": {},
   "outputs": [],
   "source": [
    "def checking_distributions(feature):\n",
    "    print('\\n\\nRatio of missing values between test and train')\n",
    "    print('train')\n",
    "    print(train_df[feature].isnull().sum()/train_df.shape[0])\n",
    "    print('test')\n",
    "    print(test_df[feature].isnull().sum()/test_df.shape[0])\n",
    "\n",
    "    print('\\nDistribution of missing values between test and train')\n",
    "\n",
    "    print('\\ntrain_df distribution of {} '.format(feature))\n",
    "    print(stats.describe(np.log1p(train_df[feature].dropna())))\n",
    "    print('\\ntest_df distribution of {} '.format(feature))\n",
    "    print(stats.describe(np.log1p(test_df[feature].dropna())))\n",
    "\n",
    "#     print(train_df.groupby(['renewal'])[feature].count())\n",
    "\n",
    "#     print(train_df[train_df[feature].isnull()].groupby('renewal')['renewal'].count())\n",
    "\n",
    "    print('\\nThe ratio of target value considering null values')\n",
    "    print('without null values')\n",
    "    print(train_df[~train_df[feature].isnull()]['renewal'].mean())\n",
    "    print('only null values')\n",
    "    print(train_df[train_df[feature].isnull()]['renewal'].mean())"
   ]
  },
  {
   "cell_type": "markdown",
   "metadata": {},
   "source": [
    "# Import Data"
   ]
  },
  {
   "cell_type": "code",
   "execution_count": 4,
   "metadata": {},
   "outputs": [
    {
     "name": "stdout",
     "output_type": "stream",
     "text": [
      "11\n"
     ]
    }
   ],
   "source": [
    "train_df = pd.read_csv('./data/train_ZoGVYWq.csv')\n",
    "test_df = pd.read_csv('./data/test_66516Ee.csv')\n",
    "col = [c for c in train_df.columns if c not in ['id','renewal']]\n",
    "print(len(col))"
   ]
  },
  {
   "cell_type": "code",
   "execution_count": 5,
   "metadata": {},
   "outputs": [],
   "source": [
    "CATEGORICAL_COLUMNS = [\"sourcing_channel\",\n",
    "                      'residence_area_type']\n",
    "\n",
    "CONTINUOUS_COLUMNS = ['perc_premium_paid_by_cash_credit',\n",
    "                      'age_in_days',\n",
    "                      'Income',\n",
    "                     'application_underwriting_score',\n",
    "                     'premium']\n",
    "\n",
    "DISCRETE_COLUMNS = ['Count_3-6_months_late',\n",
    "                    'Count_6-12_months_late',\n",
    "                   'Count_more_than_12_months_late',\n",
    "                   'no_of_premiums_paid']\n",
    "\n",
    "# DUMMY_COLUMNS = [\"Medical_Keyword_{}\".format(i) for i in range(1, 48)]"
   ]
  },
  {
   "cell_type": "code",
   "execution_count": 6,
   "metadata": {},
   "outputs": [],
   "source": [
    "categorical_data = pd.concat([train_df[CATEGORICAL_COLUMNS], test_df[CATEGORICAL_COLUMNS]])\n",
    "continuous_data = pd.concat([train_df[CONTINUOUS_COLUMNS], test_df[CONTINUOUS_COLUMNS]])\n",
    "discrete_data = pd.concat([train_df[DISCRETE_COLUMNS], test_df[DISCRETE_COLUMNS]])\n",
    "\n",
    "categorical_data_bin = categorical_data.applymap(str)  # need to conver into strings to appyly get_dummies\n",
    "categorical_data_bin = pd.get_dummies(categorical_data_bin, drop_first=True)\n",
    "\n",
    "total_df = pd.concat([continuous_data,discrete_data,categorical_data_bin],axis=1).reset_index(drop=True)"
   ]
  },
  {
   "cell_type": "code",
   "execution_count": 7,
   "metadata": {},
   "outputs": [],
   "source": [
    "colsToImpute = []\n",
    "for i,j in total_df.isnull().sum().reset_index().values:\n",
    "    if j>0:colsToImpute.append(i)"
   ]
  },
  {
   "cell_type": "code",
   "execution_count": 8,
   "metadata": {},
   "outputs": [
    {
     "name": "stdout",
     "output_type": "stream",
     "text": [
      "\n",
      "total_df missing values\n",
      "application_underwriting_score    4297\n",
      "Count_3-6_months_late              128\n",
      "Count_6-12_months_late             128\n",
      "Count_more_than_12_months_late     128\n",
      "dtype: int64\n",
      "\n",
      "train_df missing values\n",
      "application_underwriting_score    2974\n",
      "Count_3-6_months_late               97\n",
      "Count_6-12_months_late              97\n",
      "Count_more_than_12_months_late      97\n",
      "dtype: int64\n",
      "\n",
      "test_df missing values\n",
      "application_underwriting_score    1323\n",
      "Count_3-6_months_late               31\n",
      "Count_6-12_months_late              31\n",
      "Count_more_than_12_months_late      31\n",
      "dtype: int64\n"
     ]
    }
   ],
   "source": [
    "print('\\ntotal_df missing values')\n",
    "print(total_df[colsToImpute].isnull().sum(),)\n",
    "print('\\ntrain_df missing values')\n",
    "print(train_df[colsToImpute].isnull().sum(),)\n",
    "print('\\ntest_df missing values')\n",
    "print(test_df[colsToImpute].isnull().sum())"
   ]
  },
  {
   "cell_type": "markdown",
   "metadata": {},
   "source": [
    "# Checking Distributions of Features to Impute"
   ]
  },
  {
   "cell_type": "markdown",
   "metadata": {},
   "source": [
    "#### application_underwriting_score"
   ]
  },
  {
   "cell_type": "code",
   "execution_count": 46,
   "metadata": {},
   "outputs": [
    {
     "name": "stdout",
     "output_type": "stream",
     "text": [
      "application_underwriting_score\n",
      "\n",
      "\n",
      "Ratio of missing values between test and train\n",
      "train\n",
      "0.03724343481146607\n",
      "test\n",
      "0.03865708274894811\n",
      "\n",
      "Distribution of missing values between test and train\n",
      "\n",
      "train_df distribution of application_underwriting_score \n",
      "DescribeResult(nobs=76879, minmax=(4.531523645819793, 4.614030814420288), mean=4.605815159262258, variance=5.581825302948168e-05, skewness=-2.852942673891252, kurtosis=14.973687856691072)\n",
      "\n",
      "test_df distribution of application_underwriting_score \n",
      "DescribeResult(nobs=32901, minmax=(4.531523645819793, 4.614030814420288), mean=4.605761038664235, variance=5.625736701534689e-05, skewness=-2.738558830597685, kurtosis=13.584874046677882)\n",
      "\n",
      "The ratio of target value considering null values\n",
      "without null values\n",
      "0.9375902392070656\n",
      "only null values\n",
      "0.9327505043712172\n"
     ]
    }
   ],
   "source": [
    "print(colsToImpute[0])\n",
    "checking_distributions(colsToImpute[0])"
   ]
  },
  {
   "cell_type": "markdown",
   "metadata": {},
   "source": [
    "#### Count_3-6_months_late"
   ]
  },
  {
   "cell_type": "code",
   "execution_count": 47,
   "metadata": {},
   "outputs": [
    {
     "name": "stdout",
     "output_type": "stream",
     "text": [
      "Count_3-6_months_late\n",
      "\n",
      "\n",
      "Ratio of missing values between test and train\n",
      "train\n",
      "0.0012147320701789538\n",
      "test\n",
      "0.0009057971014492754\n",
      "\n",
      "Distribution of missing values between test and train\n",
      "\n",
      "train_df distribution of Count_3-6_months_late \n",
      "DescribeResult(nobs=79756, minmax=(0.0, 2.6390573296152584), mean=0.1422212262977352, variance=0.11892829067312924, skewness=2.4611254125431885, kurtosis=5.6325214361521265)\n",
      "\n",
      "test_df distribution of Count_3-6_months_late \n",
      "DescribeResult(nobs=34193, minmax=(0.0, 2.5649493574615367), mean=0.1364877009808167, variance=0.11451018678401678, skewness=2.5575342855896017, kurtosis=6.315616265524319)\n",
      "\n",
      "The ratio of target value considering null values\n",
      "without null values\n",
      "0.9380861627965295\n",
      "only null values\n",
      "0.38144329896907214\n"
     ]
    }
   ],
   "source": [
    "print(colsToImpute[1])\n",
    "checking_distributions(colsToImpute[1])"
   ]
  },
  {
   "cell_type": "markdown",
   "metadata": {},
   "source": [
    "#### Count_6-12_months_late"
   ]
  },
  {
   "cell_type": "code",
   "execution_count": 48,
   "metadata": {},
   "outputs": [
    {
     "name": "stdout",
     "output_type": "stream",
     "text": [
      "Count_6-12_months_late\n",
      "\n",
      "\n",
      "Ratio of missing values between test and train\n",
      "train\n",
      "0.0012147320701789538\n",
      "test\n",
      "0.0009057971014492754\n",
      "\n",
      "Distribution of missing values between test and train\n",
      "\n",
      "train_df distribution of Count_6-12_months_late \n",
      "DescribeResult(nobs=79756, minmax=(0.0, 2.8903717578961645), mean=0.04359826771661013, variance=0.04192824911002299, skewness=5.309497700543187, kurtosis=31.702913451210534)\n",
      "\n",
      "test_df distribution of Count_6-12_months_late \n",
      "DescribeResult(nobs=34193, minmax=(0.0, 2.3978952727983707), mean=0.044095840309452065, variance=0.04364006348208998, skewness=5.4032647946022205, kurtosis=32.796682754859944)\n",
      "\n",
      "The ratio of target value considering null values\n",
      "without null values\n",
      "0.9380861627965295\n",
      "only null values\n",
      "0.38144329896907214\n"
     ]
    }
   ],
   "source": [
    "print(colsToImpute[2])\n",
    "checking_distributions(colsToImpute[2])"
   ]
  },
  {
   "cell_type": "markdown",
   "metadata": {},
   "source": [
    "#### Count_more_than_12_months_late"
   ]
  },
  {
   "cell_type": "code",
   "execution_count": 12,
   "metadata": {},
   "outputs": [
    {
     "name": "stdout",
     "output_type": "stream",
     "text": [
      "Count_more_than_12_months_late\n",
      "\n",
      "\n",
      "Ratio of missing values between test and train\n",
      "0.0012147320701789538\n",
      "0.0009057971014492754\n",
      "\n",
      "Distribution of missing values between test and train\n",
      "\n",
      "train_df distribution of Count_more_than_12_months_late \n",
      "DescribeResult(nobs=79756, minmax=(0.0, 2.4849066497880004), mean=0.037093727813130695, variance=0.03057542145897063, skewness=5.083446355992594, kurtosis=28.059436400410664)\n",
      "\n",
      "test_df distribution of Count_more_than_12_months_late \n",
      "DescribeResult(nobs=34193, minmax=(0.0, 2.0794415416798357), mean=0.03592362296207725, variance=0.029643384948691277, skewness=5.177031354120932, kurtosis=29.186673097906578)\n",
      "\n",
      "The ratio of target value considering null values\n",
      "0.9380861627965295\n",
      "0.38144329896907214\n"
     ]
    }
   ],
   "source": [
    "print(colsToImpute[3])\n",
    "checking_distributions(colsToImpute[3])"
   ]
  },
  {
   "cell_type": "markdown",
   "metadata": {},
   "source": [
    "# Imputing Missing Values"
   ]
  },
  {
   "cell_type": "code",
   "execution_count": 13,
   "metadata": {},
   "outputs": [],
   "source": [
    "train_df_2 = total_df.iloc[:train_df.shape[0],:]\n",
    "\n",
    "train_df_2 = train_df_2.dropna(axis=0)\n",
    "\n",
    "train_df_2_renewal = train_df[['renewal']].loc[train_df_2.index]\n",
    "\n",
    "train_df_2 = pd.concat([train_df_2,train_df_2_renewal],axis=1)"
   ]
  },
  {
   "cell_type": "markdown",
   "metadata": {},
   "source": [
    "## 'application_underwriting_score'"
   ]
  },
  {
   "cell_type": "code",
   "execution_count": 14,
   "metadata": {},
   "outputs": [],
   "source": [
    "y = train_df_2['application_underwriting_score']"
   ]
  },
  {
   "cell_type": "code",
   "execution_count": 15,
   "metadata": {},
   "outputs": [],
   "source": [
    "X = train_df_2.drop(colsToImpute,axis=1)"
   ]
  },
  {
   "cell_type": "code",
   "execution_count": 16,
   "metadata": {},
   "outputs": [],
   "source": [
    "X_1, X_2, y_1, y_2 = model_selection.train_test_split(X, y, test_size=0.25, random_state=99)\n",
    "\n",
    "train_X = X_1.reset_index(drop=True)\n",
    "test_X = X_2.reset_index(drop=True)\n",
    "train_y = y_1.values"
   ]
  },
  {
   "cell_type": "code",
   "execution_count": 17,
   "metadata": {},
   "outputs": [
    {
     "name": "stdout",
     "output_type": "stream",
     "text": [
      "Training until validation scores don't improve for 100 rounds.\n",
      "[200]\tvalid_0's l2: 0.406504\n",
      "[400]\tvalid_0's l2: 0.379661\n",
      "[600]\tvalid_0's l2: 0.372755\n",
      "[800]\tvalid_0's l2: 0.370809\n",
      "[1000]\tvalid_0's l2: 0.370171\n",
      "Training until validation scores don't improve for 100 rounds.\n",
      "[200]\tvalid_0's l2: 0.407638\n",
      "[400]\tvalid_0's l2: 0.378457\n",
      "[600]\tvalid_0's l2: 0.371606\n",
      "[800]\tvalid_0's l2: 0.369869\n",
      "[1000]\tvalid_0's l2: 0.369534\n",
      "Training until validation scores don't improve for 100 rounds.\n",
      "[200]\tvalid_0's l2: 0.397658\n",
      "[400]\tvalid_0's l2: 0.371235\n",
      "[600]\tvalid_0's l2: 0.365908\n",
      "[800]\tvalid_0's l2: 0.364763\n",
      "Early stopping, best iteration is:\n",
      "[815]\tvalid_0's l2: 0.364745\n"
     ]
    }
   ],
   "source": [
    "kf = model_selection.KFold(n_splits=3, shuffle=True, random_state=2017)\n",
    "pred_test_full = 0\n",
    "\n",
    "for dev_index, val_index in kf.split(train_X):\n",
    "    dev_X, val_X = train_X.loc[dev_index,:], train_X.loc[val_index,:]\n",
    "    dev_y, val_y = train_y[dev_index], train_y[val_index]\n",
    "#     print(dev_X.shape), print(dev_y.shape), print(val_X.shape), print(val_y.shape), print(test_X.shape)\n",
    "    pred_test, model, evals_result = run_lgb(dev_X, dev_y, val_X, val_y, test_X)\n",
    "    pred_test_full += pred_test\n",
    "    \n",
    "pred_test_full /= 5."
   ]
  },
  {
   "cell_type": "code",
   "execution_count": 18,
   "metadata": {
    "scrolled": false
   },
   "outputs": [
    {
     "data": {
      "image/png": "[encoded data removed]",
      "text/plain": [
       "<matplotlib.figure.Figure at 0x1a0fd984e0>"
      ]
     },
     "metadata": {},
     "output_type": "display_data"
    }
   ],
   "source": [
    "### Feature Importance ###\n",
    "fig, ax = plt.subplots(figsize=(6,4))\n",
    "lgb.plot_importance(model, max_num_features=50, height=0.8, ax=ax)\n",
    "ax.grid(False)\n",
    "plt.title(\"LightGBM - Feature Importance\", fontsize=15)\n",
    "plt.show()"
   ]
  },
  {
   "cell_type": "code",
   "execution_count": 19,
   "metadata": {},
   "outputs": [
    {
     "name": "stdout",
     "output_type": "stream",
     "text": [
      "0.3482728997454497\n",
      "0.3613464973334556\n"
     ]
    }
   ],
   "source": [
    "print(mean_squared_error(model.predict(X_1),y_1))\n",
    "print(mean_squared_error(model.predict(X_2),y_2))"
   ]
  },
  {
   "cell_type": "code",
   "execution_count": 20,
   "metadata": {
    "scrolled": true
   },
   "outputs": [],
   "source": [
    "to_impute = total_df[total_df['application_underwriting_score'].isnull()].drop(colsToImpute,axis=1)\n",
    "\n",
    "idx_to_impute = total_df.loc[total_df['application_underwriting_score'].isnull()].index.tolist()\n",
    "\n",
    "imputed_total_df = total_df.copy()\n",
    "\n",
    "imputed_total_df.loc[idx_to_impute,'application_underwriting_score'] = model.predict(to_impute)"
   ]
  },
  {
   "cell_type": "markdown",
   "metadata": {},
   "source": [
    "## 'Count_3-6_months_late'"
   ]
  },
  {
   "cell_type": "code",
   "execution_count": 23,
   "metadata": {},
   "outputs": [],
   "source": [
    "y = train_df_2['Count_3-6_months_late']"
   ]
  },
  {
   "cell_type": "code",
   "execution_count": 24,
   "metadata": {},
   "outputs": [],
   "source": [
    "X = train_df_2.drop(colsToImpute,axis=1)"
   ]
  },
  {
   "cell_type": "code",
   "execution_count": 25,
   "metadata": {},
   "outputs": [],
   "source": [
    "X_1, X_2, y_1, y_2 = model_selection.train_test_split(X, y, test_size=0.25, random_state=99)\n",
    "\n",
    "train_X = X_1.reset_index(drop=True)\n",
    "test_X = X_2.reset_index(drop=True)\n",
    "train_y = y_1.values"
   ]
  },
  {
   "cell_type": "code",
   "execution_count": 26,
   "metadata": {},
   "outputs": [
    {
     "name": "stdout",
     "output_type": "stream",
     "text": [
      "Training until validation scores don't improve for 100 rounds.\n",
      "[200]\tvalid_0's l2: 0.434379\n",
      "[400]\tvalid_0's l2: 0.429157\n",
      "Early stopping, best iteration is:\n",
      "[463]\tvalid_0's l2: 0.428968\n",
      "Training until validation scores don't improve for 100 rounds.\n",
      "[200]\tvalid_0's l2: 0.434802\n",
      "[400]\tvalid_0's l2: 0.429739\n",
      "Early stopping, best iteration is:\n",
      "[496]\tvalid_0's l2: 0.429552\n",
      "Training until validation scores don't improve for 100 rounds.\n",
      "[200]\tvalid_0's l2: 0.436166\n",
      "[400]\tvalid_0's l2: 0.43232\n",
      "Early stopping, best iteration is:\n",
      "[401]\tvalid_0's l2: 0.432312\n"
     ]
    }
   ],
   "source": [
    "kf = model_selection.KFold(n_splits=3, shuffle=True, random_state=2017)\n",
    "pred_test_full = 0\n",
    "\n",
    "for dev_index, val_index in kf.split(train_X):\n",
    "    dev_X, val_X = train_X.loc[dev_index,:], train_X.loc[val_index,:]\n",
    "    dev_y, val_y = train_y[dev_index], train_y[val_index]\n",
    "#     print(dev_X.shape), print(dev_y.shape), print(val_X.shape), print(val_y.shape), print(test_X.shape)\n",
    "    pred_test, model, evals_result = run_lgb(dev_X, dev_y, val_X, val_y, test_X)\n",
    "    pred_test_full += pred_test\n",
    "    \n",
    "pred_test_full /= 5."
   ]
  },
  {
   "cell_type": "code",
   "execution_count": 27,
   "metadata": {},
   "outputs": [
    {
     "name": "stdout",
     "output_type": "stream",
     "text": [
      "0.41509995163914004\n",
      "0.448957301955007\n"
     ]
    }
   ],
   "source": [
    "print(mean_squared_error(model.predict(X_1),y_1))\n",
    "print(mean_squared_error(model.predict(X_2),y_2))"
   ]
  },
  {
   "cell_type": "code",
   "execution_count": 28,
   "metadata": {
    "scrolled": false
   },
   "outputs": [
    {
     "data": {
      "image/png": "[encoded data removed]",
      "text/plain": [
       "<matplotlib.figure.Figure at 0x1a103b4b00>"
      ]
     },
     "metadata": {},
     "output_type": "display_data"
    }
   ],
   "source": [
    "### Feature Importance ###\n",
    "fig, ax = plt.subplots(figsize=(6,4))\n",
    "lgb.plot_importance(model, max_num_features=50, height=0.8, ax=ax)\n",
    "ax.grid(False)\n",
    "plt.title(\"LightGBM - Feature Importance\", fontsize=15)\n",
    "plt.show()"
   ]
  },
  {
   "cell_type": "code",
   "execution_count": 29,
   "metadata": {
    "scrolled": true
   },
   "outputs": [],
   "source": [
    "to_impute = total_df[total_df['Count_3-6_months_late'].isnull()].drop(colsToImpute,axis=1)\n",
    "\n",
    "idx_to_impute = total_df.loc[total_df['Count_3-6_months_late'].isnull()].index.tolist()\n",
    "\n",
    "imputed_total_df.loc[idx_to_impute,'Count_3-6_months_late'] = model.predict(to_impute)"
   ]
  },
  {
   "cell_type": "markdown",
   "metadata": {},
   "source": [
    "## 'Count_6-12_months_late'"
   ]
  },
  {
   "cell_type": "code",
   "execution_count": 30,
   "metadata": {},
   "outputs": [],
   "source": [
    "y = train_df_2['Count_6-12_months_late']"
   ]
  },
  {
   "cell_type": "code",
   "execution_count": 31,
   "metadata": {},
   "outputs": [],
   "source": [
    "X = train_df_2.drop(colsToImpute,axis=1)"
   ]
  },
  {
   "cell_type": "code",
   "execution_count": 32,
   "metadata": {},
   "outputs": [],
   "source": [
    "X_1, X_2, y_1, y_2 = model_selection.train_test_split(X, y, test_size=0.25, random_state=99)\n",
    "\n",
    "train_X = X_1.reset_index(drop=True)\n",
    "test_X = X_2.reset_index(drop=True)\n",
    "train_y = y_1.values"
   ]
  },
  {
   "cell_type": "code",
   "execution_count": 33,
   "metadata": {},
   "outputs": [
    {
     "name": "stdout",
     "output_type": "stream",
     "text": [
      "Training until validation scores don't improve for 100 rounds.\n",
      "[200]\tvalid_0's l2: 0.155907\n",
      "[400]\tvalid_0's l2: 0.15483\n",
      "Early stopping, best iteration is:\n",
      "[387]\tvalid_0's l2: 0.154809\n",
      "Training until validation scores don't improve for 100 rounds.\n",
      "[200]\tvalid_0's l2: 0.154145\n",
      "[400]\tvalid_0's l2: 0.153015\n",
      "Early stopping, best iteration is:\n",
      "[345]\tvalid_0's l2: 0.152829\n",
      "Training until validation scores don't improve for 100 rounds.\n",
      "[200]\tvalid_0's l2: 0.173647\n",
      "[400]\tvalid_0's l2: 0.171882\n",
      "Early stopping, best iteration is:\n",
      "[443]\tvalid_0's l2: 0.171844\n"
     ]
    }
   ],
   "source": [
    "kf = model_selection.KFold(n_splits=3, shuffle=True, random_state=2017)\n",
    "pred_test_full = 0\n",
    "\n",
    "for dev_index, val_index in kf.split(train_X):\n",
    "    dev_X, val_X = train_X.loc[dev_index,:], train_X.loc[val_index,:]\n",
    "    dev_y, val_y = train_y[dev_index], train_y[val_index]\n",
    "#     print(dev_X.shape), print(dev_y.shape), print(val_X.shape), print(val_y.shape), print(test_X.shape)\n",
    "    pred_test, model, evals_result = run_lgb(dev_X, dev_y, val_X, val_y, test_X)\n",
    "    pred_test_full += pred_test\n",
    "    \n",
    "pred_test_full /= 5."
   ]
  },
  {
   "cell_type": "code",
   "execution_count": 34,
   "metadata": {},
   "outputs": [
    {
     "name": "stdout",
     "output_type": "stream",
     "text": [
      "0.14975335382427607\n",
      "0.16232402294613307\n"
     ]
    }
   ],
   "source": [
    "print(mean_squared_error(model.predict(X_1),y_1))\n",
    "print(mean_squared_error(model.predict(X_2),y_2))"
   ]
  },
  {
   "cell_type": "code",
   "execution_count": 35,
   "metadata": {
    "scrolled": false
   },
   "outputs": [
    {
     "data": {
      "image/png": "[encoded data removed]",
      "text/plain": [
       "<matplotlib.figure.Figure at 0x1a14f072b0>"
      ]
     },
     "metadata": {},
     "output_type": "display_data"
    }
   ],
   "source": [
    "### Feature Importance ###\n",
    "fig, ax = plt.subplots(figsize=(6,4))\n",
    "lgb.plot_importance(model, max_num_features=50, height=0.8, ax=ax)\n",
    "ax.grid(False)\n",
    "plt.title(\"LightGBM - Feature Importance\", fontsize=15)\n",
    "plt.show()"
   ]
  },
  {
   "cell_type": "code",
   "execution_count": 36,
   "metadata": {
    "scrolled": true
   },
   "outputs": [],
   "source": [
    "to_impute = total_df[total_df['Count_6-12_months_late'].isnull()].drop(colsToImpute,axis=1)\n",
    "\n",
    "idx_to_impute = total_df.loc[total_df['Count_6-12_months_late'].isnull()].index.tolist()\n",
    "\n",
    "imputed_total_df.loc[idx_to_impute,'Count_6-12_months_late'] = model.predict(to_impute)"
   ]
  },
  {
   "cell_type": "markdown",
   "metadata": {},
   "source": [
    "## 'Count_more_than_12_months_late'"
   ]
  },
  {
   "cell_type": "code",
   "execution_count": 38,
   "metadata": {},
   "outputs": [],
   "source": [
    "y = train_df_2['Count_more_than_12_months_late']\n",
    "\n",
    "X = train_df_2.drop(colsToImpute,axis=1)"
   ]
  },
  {
   "cell_type": "code",
   "execution_count": 39,
   "metadata": {},
   "outputs": [],
   "source": [
    "X_1, X_2, y_1, y_2 = model_selection.train_test_split(X, y, test_size=0.25, random_state=99)\n",
    "\n",
    "train_X = X_1.reset_index(drop=True)\n",
    "test_X = X_2.reset_index(drop=True)\n",
    "train_y = y_1.values"
   ]
  },
  {
   "cell_type": "code",
   "execution_count": 40,
   "metadata": {},
   "outputs": [
    {
     "name": "stdout",
     "output_type": "stream",
     "text": [
      "Training until validation scores don't improve for 100 rounds.\n",
      "[200]\tvalid_0's l2: 0.0886873\n",
      "[400]\tvalid_0's l2: 0.0883049\n",
      "Early stopping, best iteration is:\n",
      "[343]\tvalid_0's l2: 0.0882704\n",
      "Training until validation scores don't improve for 100 rounds.\n",
      "[200]\tvalid_0's l2: 0.0838047\n",
      "[400]\tvalid_0's l2: 0.0831895\n",
      "Early stopping, best iteration is:\n",
      "[389]\tvalid_0's l2: 0.0831781\n",
      "Training until validation scores don't improve for 100 rounds.\n",
      "[200]\tvalid_0's l2: 0.105227\n",
      "[400]\tvalid_0's l2: 0.104655\n",
      "Early stopping, best iteration is:\n",
      "[372]\tvalid_0's l2: 0.104646\n"
     ]
    }
   ],
   "source": [
    "kf = model_selection.KFold(n_splits=3, shuffle=True, random_state=2017)\n",
    "pred_test_full = 0\n",
    "\n",
    "for dev_index, val_index in kf.split(train_X):\n",
    "    dev_X, val_X = train_X.loc[dev_index,:], train_X.loc[val_index,:]\n",
    "    dev_y, val_y = train_y[dev_index], train_y[val_index]\n",
    "#     print(dev_X.shape), print(dev_y.shape), print(val_X.shape), print(val_y.shape), print(test_X.shape)\n",
    "    pred_test, model, evals_result = run_lgb(dev_X, dev_y, val_X, val_y, test_X)\n",
    "    pred_test_full += pred_test\n",
    "    \n",
    "pred_test_full /= 5."
   ]
  },
  {
   "cell_type": "code",
   "execution_count": 41,
   "metadata": {},
   "outputs": [
    {
     "name": "stdout",
     "output_type": "stream",
     "text": [
      "0.08842102890298058\n",
      "0.09181988363021927\n"
     ]
    }
   ],
   "source": [
    "print(mean_squared_error(model.predict(X_1),y_1))\n",
    "print(mean_squared_error(model.predict(X_2),y_2))"
   ]
  },
  {
   "cell_type": "code",
   "execution_count": 42,
   "metadata": {
    "scrolled": false
   },
   "outputs": [
    {
     "data": {
      "image/png": "[encoded data removed]",
      "text/plain": [
       "<matplotlib.figure.Figure at 0x1a0fd44c88>"
      ]
     },
     "metadata": {},
     "output_type": "display_data"
    }
   ],
   "source": [
    "### Feature Importance ###\n",
    "fig, ax = plt.subplots(figsize=(6,4))\n",
    "lgb.plot_importance(model, max_num_features=50, height=0.8, ax=ax)\n",
    "ax.grid(False)\n",
    "plt.title(\"LightGBM - Feature Importance\", fontsize=15)\n",
    "plt.show()"
   ]
  },
  {
   "cell_type": "code",
   "execution_count": 43,
   "metadata": {},
   "outputs": [],
   "source": [
    "to_impute = total_df[total_df['Count_more_than_12_months_late'].isnull()].drop(colsToImpute,axis=1)\n",
    "\n",
    "idx_to_impute = total_df.loc[total_df['Count_more_than_12_months_late'].isnull()].index.tolist()\n",
    "\n",
    "imputed_total_df.loc[idx_to_impute,'Count_more_than_12_months_late'] = model.predict(to_impute)"
   ]
  },
  {
   "cell_type": "markdown",
   "metadata": {},
   "source": [
    "# Store Imputed Dataset"
   ]
  },
  {
   "cell_type": "code",
   "execution_count": 49,
   "metadata": {},
   "outputs": [],
   "source": [
    "imputed_total_df.to_pickle('./data/imputed_total_df.pkl')"
   ]
  }
 ],
 "metadata": {
  "kernelspec": {
   "display_name": "Python 3",
   "language": "python",
   "name": "python3"
  },
  "language_info": {
   "codemirror_mode": {
    "name": "ipython",
    "version": 3
   },
   "file_extension": ".py",
   "mimetype": "text/x-python",
   "name": "python",
   "nbconvert_exporter": "python",
   "pygments_lexer": "ipython3",
   "version": "3.6.3"
  }
 },
 "nbformat": 4,
 "nbformat_minor": 2
}
